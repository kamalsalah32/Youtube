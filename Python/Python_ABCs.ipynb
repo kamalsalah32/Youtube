{
  "nbformat": 4,
  "nbformat_minor": 0,
  "metadata": {
    "colab": {
      "name": "Python_ABCs.ipynb",
      "provenance": [],
      "collapsed_sections": []
    },
    "kernelspec": {
      "name": "python2",
      "display_name": "Python 2"
    },
    "accelerator": "GPU"
  },
  "cells": [
    {
      "cell_type": "markdown",
      "metadata": {
        "id": "ESHfMZK4tn5F"
      },
      "source": [
        "**Variables & Datatypes**"
      ]
    },
    {
      "cell_type": "code",
      "metadata": {
        "id": "6EFSmiZxtmM8",
        "colab": {
          "base_uri": "https://localhost:8080/"
        },
        "outputId": "46c70d85-d8b4-435c-fe07-6dd6a6657dae"
      },
      "source": [
        "# Must start with letter or underscore\n",
        "# Can have numbers but not at the beginning\n",
        "# Variable names are case sensitive\n",
        "x = 2\n",
        "y = 1.3\n",
        "s = 'String'\n",
        "b = False\n",
        "\n",
        "x, y, s, b = (1, 2.3, True, \"Andy\")\n",
        "print(type(x))\n",
        "print(type(y))\n",
        "print(type(s))\n",
        "print(type(b))"
      ],
      "execution_count": 12,
      "outputs": [
        {
          "output_type": "stream",
          "text": [
            "<type 'int'>\n",
            "<type 'float'>\n",
            "<type 'bool'>\n",
            "<type 'str'>\n"
          ],
          "name": "stdout"
        }
      ]
    },
    {
      "cell_type": "markdown",
      "metadata": {
        "id": "iRGlv8Lbu355"
      },
      "source": [
        "**Type Casting**"
      ]
    },
    {
      "cell_type": "code",
      "metadata": {
        "id": "-7YIb1jYu8MC",
        "colab": {
          "base_uri": "https://localhost:8080/"
        },
        "outputId": "b03878fb-bc7d-44d0-9de5-be5b23107a1b"
      },
      "source": [
        "a = int(\"1245\")\n",
        "print(type(a))\n",
        "print(a)\n",
        "\n",
        "b = float(\"12.345\")\n",
        "print(type(b))\n",
        "print(b)\n",
        "\n",
        "c = int(1.5)\n",
        "print(type(c))\n",
        "print(c)\n",
        "\n",
        "d = float(c)\n",
        "print(type(d))\n",
        "print(d)"
      ],
      "execution_count": 47,
      "outputs": [
        {
          "output_type": "stream",
          "text": [
            "<type 'int'>\n",
            "1245\n",
            "<type 'float'>\n",
            "12.345\n",
            "<type 'int'>\n",
            "1\n",
            "<type 'float'>\n",
            "1.0\n"
          ],
          "name": "stdout"
        }
      ]
    },
    {
      "cell_type": "markdown",
      "metadata": {
        "id": "dI8XNU6t11s9"
      },
      "source": [
        "**Get Input from user**"
      ]
    },
    {
      "cell_type": "code",
      "metadata": {
        "id": "nHISrDdI11Cq"
      },
      "source": [
        "x = input(\"Enter your name: \")\n",
        "print(type(x))"
      ],
      "execution_count": null,
      "outputs": []
    },
    {
      "cell_type": "markdown",
      "metadata": {
        "id": "aab8m2jdwhzS"
      },
      "source": [
        "**If Conditions**"
      ]
    },
    {
      "cell_type": "code",
      "metadata": {
        "id": "HSZpoBKbwoVN",
        "colab": {
          "base_uri": "https://localhost:8080/"
        },
        "outputId": "c35b3e2a-986b-47a1-a622-94e793aa284c"
      },
      "source": [
        "x = 15\n",
        "\n",
        "# if\n",
        "if x > 20:\n",
        "  print(\"Yes\")\n",
        "\n",
        "# if - else\n",
        "if x > 20:\n",
        "  print(\"Yes\")\n",
        "  print(\"Yes1\")\n",
        "else:\n",
        "  if x > 10:\n",
        "    print(\"No\")\n",
        "  else:\n",
        "    print(\"No1\")\n",
        "\n",
        "\n",
        "# elif\n",
        "if x > 20:\n",
        "  print(\"Yes\")\n",
        "  print(\"Yes1\")\n",
        "elif x > 10:\n",
        "  print(\"No\")\n",
        "else:\n",
        "  print(\"No1\")"
      ],
      "execution_count": 27,
      "outputs": [
        {
          "output_type": "stream",
          "text": [
            "No\n"
          ],
          "name": "stdout"
        }
      ]
    },
    {
      "cell_type": "markdown",
      "metadata": {
        "id": "ME1UPYaLwosd"
      },
      "source": [
        "**Loops**"
      ]
    },
    {
      "cell_type": "code",
      "metadata": {
        "id": "9NVCDm2cwsqg",
        "colab": {
          "base_uri": "https://localhost:8080/"
        },
        "outputId": "eabf5875-9e81-42bc-9a8d-1b4146d2447d"
      },
      "source": [
        "# for loop\n",
        "for i in range(5):\n",
        "  print(i)\n",
        "\n",
        "print(\"\")\n",
        "\n",
        "# while loop\n",
        "i = 0\n",
        "while i < 5:\n",
        "  print(i)\n",
        "  i += 1"
      ],
      "execution_count": 44,
      "outputs": [
        {
          "output_type": "stream",
          "text": [
            "0\n",
            "1\n",
            "2\n",
            "3\n",
            "4\n",
            "\n",
            "0\n",
            "1\n",
            "2\n",
            "3\n",
            "4\n"
          ],
          "name": "stdout"
        }
      ]
    },
    {
      "cell_type": "markdown",
      "metadata": {
        "id": "wJmlWAz75HGR"
      },
      "source": [
        "**Functions**"
      ]
    },
    {
      "cell_type": "code",
      "metadata": {
        "colab": {
          "base_uri": "https://localhost:8080/"
        },
        "id": "OR8fnUJ55CIe",
        "outputId": "e450cd56-c5aa-46d2-b495-a4b77707138e"
      },
      "source": [
        "def func(name):\n",
        "  s = \"Hello \" + name\n",
        "  return s\n",
        "\n",
        "\n",
        "res = func(\"Andy\")\n",
        "res1 = func(\"Sam\") \n",
        "print(res)\n",
        "print(res1)"
      ],
      "execution_count": 43,
      "outputs": [
        {
          "output_type": "stream",
          "text": [
            "Hello Andy\n",
            "Hello Sam\n"
          ],
          "name": "stdout"
        }
      ]
    },
    {
      "cell_type": "markdown",
      "metadata": {
        "id": "qrkva-2ybMjS"
      },
      "source": [
        "**Concatenate Strings**"
      ]
    },
    {
      "cell_type": "code",
      "metadata": {
        "colab": {
          "base_uri": "https://localhost:8080/"
        },
        "id": "mL2bNbKFbRz9",
        "outputId": "8ced9179-4684-478c-f2dc-0315cb64ca29"
      },
      "source": [
        "x = \"Hello\"\n",
        "y = \"World\"\n",
        "z = x + \" \" + y + \"!\"\n",
        "print(z)\n",
        "\n",
        "a = 22\n",
        "print(\"I am \" + str(a) + \" years old\")\n",
        "print(\"I am {age} years old\".format(age=a))"
      ],
      "execution_count": 57,
      "outputs": [
        {
          "output_type": "stream",
          "text": [
            "Hello World!\n",
            "I am 22 years old\n",
            "I am 22 years old\n"
          ],
          "name": "stdout"
        }
      ]
    }
  ]
}